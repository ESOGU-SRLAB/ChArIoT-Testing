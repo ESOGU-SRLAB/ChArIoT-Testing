{
 "cells": [
  {
   "cell_type": "code",
   "execution_count": null,
   "metadata": {},
   "outputs": [],
   "source": [
    "import os\n",
    "#os.chdir('/home/sergenasik/ChArIoT/Delete/Dataset/commit_tp/delete/withIdioms/unlimited')\n",
    "os.listdir()"
   ]
  },
  {
   "cell_type": "code",
   "execution_count": null,
   "metadata": {},
   "outputs": [],
   "source": [
    "#with open('/home/sergenasik/ChArIoT/Delete/Dataset/commit_tp/delete/withIdioms/unlimited/fixed.txt', 'r') as f:\n",
    "    #fixed = f.read().splitlines()\n",
    "    \n",
    "with open('fixed.txt', 'r') as f:\n",
    "    fixed = f.read().splitlines()\n",
    "\n",
    "#with open('/home/sergenasik/ChArIoT/Delete/Dataset/commit_tp/delete/withIdioms/unlimited/buggy.txt', 'r') as f:\n",
    "    #buggy = f.read().splitlines()\n",
    "    \n",
    "with open('buggy.txt', 'r') as f:\n",
    "    buggy = f.read().splitlines()\n",
    "\n",
    "import pandas as pd\n",
    "df = pd.DataFrame({'buggy':buggy, 'fixed':fixed})\n",
    "\n",
    "df"
   ]
  },
  {
   "cell_type": "code",
   "execution_count": null,
   "metadata": {},
   "outputs": [],
   "source": [
    "df1 = df.drop_duplicates(subset=['buggy', 'fixed'], keep='last')\n",
    "df1"
   ]
  },
  {
   "cell_type": "code",
   "execution_count": null,
   "metadata": {},
   "outputs": [],
   "source": [
    "import numpy as np\n",
    "df1['buggy_new'], df1['fixed_new'] = np.where((df1['buggy'] != df1['fixed']), df1['buggy'], np.nan), np.where((df1['fixed'] != df1['buggy']), df1['fixed'], np.nan)\n",
    "df1\n",
    "\n",
    "df2 = pd.DataFrame({'buggy':df1['buggy_new'].dropna(), 'fixed':df1['fixed_new'].dropna()})\n",
    "df2"
   ]
  },
  {
   "cell_type": "code",
   "execution_count": null,
   "metadata": {},
   "outputs": [],
   "source": [
    "buggy_new = df2['buggy'].tolist()\n",
    "fixed_new = df2['fixed'].tolist()\n",
    "\n",
    "with open('buggy_new.txt', 'w') as f:\n",
    "    for buggy in buggy_new:\n",
    "        f.write(buggy + '\\n')\n",
    "        \n",
    "with open('fixed_new.txt', 'w') as f:\n",
    "    for fixed in fixed_new:\n",
    "        f.write(fixed + '\\n')"
   ]
  },
  {
   "cell_type": "code",
   "execution_count": null,
   "metadata": {},
   "outputs": [],
   "source": [
    "import os\n",
    "import tokenize\n",
    "from io import BytesIO\n",
    "\n",
    "print(os.listdir())\n",
    "\n",
    "# Create source and target language tokenizer.\n",
    "def get_tokenizer(text):\n",
    "    tokens = tokenize.tokenize(BytesIO(text.encode(\"utf-8\")).readline)\n",
    "    return [token.string for token in list(tokens)[1:-2]]\n",
    "\n",
    "buggy_new = []\n",
    "buggies = open('buggy_new.txt', 'r').read().splitlines()\n",
    "\n",
    "for buggy in buggies:\n",
    "    buggy_new.append(get_tokenizer(buggy))\n",
    "    \n",
    "fixed_new = []\n",
    "fixes = open('fixed_new.txt', 'r').read().splitlines()\n",
    "\n",
    "for fixed in fixes:\n",
    "    fixed_new.append(get_tokenizer(fixed))"
   ]
  },
  {
   "cell_type": "code",
   "execution_count": null,
   "metadata": {},
   "outputs": [],
   "source": [
    "buggy_count = []\n",
    "\n",
    "for idx, buggy in enumerate(buggy_new):\n",
    "    buggy_count.append(len(buggy))\n",
    "\n",
    "buggy_count.sort(reverse=True)\n",
    "buggy_count"
   ]
  },
  {
   "cell_type": "code",
   "execution_count": null,
   "metadata": {},
   "outputs": [],
   "source": [
    "len(fixes), len(buggies)"
   ]
  },
  {
   "cell_type": "code",
   "execution_count": null,
   "metadata": {},
   "outputs": [],
   "source": [
    "fixed_count = []\n",
    "\n",
    "for idx, fixed in enumerate(fixed_new):\n",
    "    fixed_count.append(len(fixed))\n",
    "\n",
    "fixed_count.sort(reverse=True)\n",
    "fixed_count"
   ]
  },
  {
   "cell_type": "code",
   "execution_count": null,
   "metadata": {},
   "outputs": [],
   "source": [
    "count_ = 0\n",
    "for i in range(len(fixed_new)):\n",
    "    if 250 >= len(fixed_new[i]) >= 0 and 250 >= len(buggy_new[i]) >= 0:\n",
    "        count_ += 1\n",
    "\n",
    "count_"
   ]
  },
  {
   "cell_type": "code",
   "execution_count": null,
   "metadata": {},
   "outputs": [],
   "source": [
    "f = open('../Model/Update100/data/insert/pythonIdioms/inf/fixed100.txt', 'r').read().splitlines()\n",
    "\n",
    "len(f)\n"
   ]
  }
 ],
 "metadata": {
  "kernelspec": {
   "display_name": "Python 3.8.15 ('py38')",
   "language": "python",
   "name": "python3"
  },
  "language_info": {
   "codemirror_mode": {
    "name": "ipython",
    "version": 3
   },
   "file_extension": ".py",
   "mimetype": "text/x-python",
   "name": "python",
   "nbconvert_exporter": "python",
   "pygments_lexer": "ipython3",
   "version": "3.8.15"
  },
  "orig_nbformat": 4,
  "vscode": {
   "interpreter": {
    "hash": "01b3dd3d2ff7b7951eb836c9a6d2d6de3248c24bf3a3e1b1be37a9efcab0fd01"
   }
  }
 },
 "nbformat": 4,
 "nbformat_minor": 2
}
